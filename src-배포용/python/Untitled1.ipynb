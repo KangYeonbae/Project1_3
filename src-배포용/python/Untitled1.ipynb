{
 "cells": [
  {
   "cell_type": "code",
   "execution_count": 1,
   "id": "009047bb-e764-4d66-b24c-68abf842f956",
   "metadata": {},
   "outputs": [],
   "source": [
    "import json\n",
    "import os\n",
    "import numpy as np\n",
    "from tensorflow.keras.preprocessing.image import load_img, img_to_array, ImageDataGenerator\n",
    "from sklearn.model_selection import train_test_split\n",
    "from tensorflow.keras.models import load_model, Sequential\n",
    "from tensorflow.keras.layers import Conv2D, MaxPooling2D, Flatten, Dense\n",
    "from tensorflow.keras.utils import to_categorical\n",
    "import pickle"
   ]
  },
  {
   "cell_type": "code",
   "execution_count": 2,
   "id": "19e2d740-7060-4e96-82b4-c83fd670e353",
   "metadata": {},
   "outputs": [],
   "source": [
    "train_image_dir = '재활용품_분류_및_선별_데이터/01-1.정식개방데이터/Validation/01.원천데이터/VS_1.영상추출_01.금속캔_001.철캔'\n",
    "train_label_dir = '재활용품_분류_및_선별_데이터/01-1.정식개방데이터/Validation/02.라벨링데이터/VL_1.영상추출_01.금속캔_001.철캔'\n",
    "img_height, img_width = 128, 128  # 원하는 이미지 크기"
   ]
  },
  {
   "cell_type": "code",
   "execution_count": 4,
   "id": "5e57030b-6d85-4dda-8272-61de2c7df3d8",
   "metadata": {},
   "outputs": [],
   "source": [
    "# 디렉토리 내의 JSON 파일 탐색\n",
    "for json_file in os.listdir(train_label_dir):\n",
    "    if json_file.endswith('.json'):\n",
    "        json_path = os.path.join(train_label_dir, json_file)\n",
    "        \n",
    "        # JSON 파일에서 라벨 데이터 읽기\n",
    "        with open(json_path, encoding='utf-8') as f:\n",
    "            data = json.load(f)\n",
    "        \n",
    "        img_file = data['IMAGE_INFO']['FILE_NAME']\n",
    "        img_path = os.path.join(train_image_dir, img_file)\n",
    "        \n",
    "        # 이미지 파일이 실제로 존재하는지 확인\n",
    "        if os.path.exists(img_path) and img_file.endswith('.jpg'):\n",
    "            images.append(img_path)\n",
    "            image_labels.append(data['ANNOTATION_INFO'])\n",
    "        else:\n",
    "            print(f\"Image file {img_path} not found or not a jpg file.\")"
   ]
  },
  {
   "cell_type": "code",
   "execution_count": 5,
   "id": "33fceee4-f274-4e3f-9598-e41e13af6683",
   "metadata": {},
   "outputs": [
    {
     "name": "stdout",
     "output_type": "stream",
     "text": [
      "Number of images: 3013\n",
      "Number of labels: 3013\n"
     ]
    }
   ],
   "source": [
    "print(f\"Number of images: {len(images)}\")\n",
    "print(f\"Number of labels: {len(image_labels)}\")"
   ]
  },
  {
   "cell_type": "code",
   "execution_count": 6,
   "id": "461f296f-251f-4b5c-a20f-ac76fc840578",
   "metadata": {},
   "outputs": [],
   "source": [
    "train_images = []\n",
    "for img_path in images:\n",
    "    img = load_img(img_path, target_size=(img_height, img_width))\n",
    "    img_array = img_to_array(img)\n",
    "    img_array = img_array / 255.0  # 픽셀 값을 [0, 1] 범위로 정규화\n",
    "    train_images.append(img_array)\n",
    "# 리스트를 넘파이 배열로 변환\n",
    "train_images = np.array(train_images)"
   ]
  },
  {
   "cell_type": "code",
   "execution_count": 8,
   "id": "78cc0a10-52a7-462e-a8b1-5e30e9dea563",
   "metadata": {},
   "outputs": [],
   "source": [
    "class_labels = [label_dict[0]['CLASS'] for label_dict in image_labels]\n",
    "details_labels = [label_dict[0]['DETAILS'] for label_dict in image_labels]\n",
    "damage_labels = [label_dict[0]['DAMAGE'] for label_dict in image_labels]\n",
    "dirtiness_labels = [label_dict[0]['DIRTINESS'] for label_dict in image_labels]\n",
    "cover_labels = [label_dict[0]['COVER'] for label_dict in image_labels]\n",
    "transparency_labels = [label_dict[0]['TRANSPARENCY'] for label_dict in image_labels]\n",
    "shape_labels = [label_dict[0]['SHAPE'] for label_dict in image_labels]\n",
    "shape_type_labels = [label_dict[0]['SHAPE_TYPE'] for label_dict in image_labels]\n",
    "\n",
    "\n",
    "def encode_labels(labels):\n",
    "    unique_labels = set(labels)\n",
    "    label_to_int = {label: i for i, label in enumerate(unique_labels)}\n",
    "    integer_labels = [label_to_int[label] for label in labels]\n",
    "    return to_categorical(integer_labels, num_classes=len(unique_labels))\n",
    "\n",
    "class_labels_enc = encode_labels(class_labels)\n",
    "details_labels_enc = encode_labels(details_labels)\n",
    "damage_labels_enc = encode_labels(damage_labels)\n",
    "dirtiness_labels_enc = encode_labels(dirtiness_labels)\n",
    "cover_labels_enc = encode_labels(cover_labels)\n",
    "transparency_labels_enc = encode_labels(transparency_labels)\n",
    "shape_labels_enc = encode_labels(shape_labels)\n",
    "shape_type_labels_enc = encode_labels(shape_type_labels)"
   ]
  },
  {
   "cell_type": "code",
   "execution_count": 13,
   "id": "485d7540-8df2-4293-9960-b6de04f245b9",
   "metadata": {},
   "outputs": [],
   "source": [
    "(train_images, val_images, \n",
    " train_class_labels, val_class_labels, \n",
    " train_details_labels, val_details_labels, \n",
    " train_damage_labels, val_damage_labels, \n",
    " train_dirtiness_labels, val_dirtiness_labels, \n",
    " train_cover_labels, val_cover_labels, \n",
    " train_transparency_labels, val_transparency_labels, \n",
    " train_shape_labels, val_shape_labels, \n",
    " train_shape_type_labels, val_shape_type_labels) = train_test_split(\n",
    "    train_images, \n",
    "    class_labels_enc, \n",
    "    details_labels_enc, \n",
    "    damage_labels_enc, \n",
    "    dirtiness_labels_enc, \n",
    "    cover_labels_enc, \n",
    "    transparency_labels_enc, \n",
    "    shape_labels_enc, \n",
    "    shape_type_labels_enc, \n",
    "    test_size=0.2, \n",
    "    random_state=42,\n",
    "    stratify=class_labels  # 클래스 불균형 완화를 위해 stratify 사용\n",
    ")"
   ]
  },
  {
   "cell_type": "code",
   "execution_count": 14,
   "id": "b4dbe4df-3f12-43a4-a451-e8bf82b0d086",
   "metadata": {},
   "outputs": [],
   "source": [
    "# 모델 컴파일\n",
    "model.compile(optimizer='adam', \n",
    "              loss='categorical_crossentropy', \n",
    "              metrics=['accuracy'])"
   ]
  },
  {
   "cell_type": "code",
   "execution_count": 15,
   "id": "788feb59-f0c8-442a-9cef-8e07790517ac",
   "metadata": {},
   "outputs": [
    {
     "name": "stdout",
     "output_type": "stream",
     "text": [
      "Epoch 1/10\n"
     ]
    },
    {
     "ename": "ValueError",
     "evalue": "Arguments `target` and `output` must have the same shape. Received: target.shape=(None, 1), output.shape=(None, 2)",
     "output_type": "error",
     "traceback": [
      "\u001b[1;31m---------------------------------------------------------------------------\u001b[0m",
      "\u001b[1;31mValueError\u001b[0m                                Traceback (most recent call last)",
      "Cell \u001b[1;32mIn[15], line 2\u001b[0m\n\u001b[0;32m      1\u001b[0m \u001b[38;5;66;03m# 모델 훈련\u001b[39;00m\n\u001b[1;32m----> 2\u001b[0m history \u001b[38;5;241m=\u001b[39m model\u001b[38;5;241m.\u001b[39mfit(\n\u001b[0;32m      3\u001b[0m     train_images, \n\u001b[0;32m      4\u001b[0m     {\n\u001b[0;32m      5\u001b[0m         \u001b[38;5;124m'\u001b[39m\u001b[38;5;124mclass_output\u001b[39m\u001b[38;5;124m'\u001b[39m: train_class_labels,\n\u001b[0;32m      6\u001b[0m         \u001b[38;5;124m'\u001b[39m\u001b[38;5;124mdetails_output\u001b[39m\u001b[38;5;124m'\u001b[39m: train_details_labels,\n\u001b[0;32m      7\u001b[0m         \u001b[38;5;124m'\u001b[39m\u001b[38;5;124mdamage_output\u001b[39m\u001b[38;5;124m'\u001b[39m: train_damage_labels,\n\u001b[0;32m      8\u001b[0m         \u001b[38;5;124m'\u001b[39m\u001b[38;5;124mdirtiness_output\u001b[39m\u001b[38;5;124m'\u001b[39m: train_dirtiness_labels,\n\u001b[0;32m      9\u001b[0m         \u001b[38;5;124m'\u001b[39m\u001b[38;5;124mcover_output\u001b[39m\u001b[38;5;124m'\u001b[39m: train_cover_labels,\n\u001b[0;32m     10\u001b[0m         \u001b[38;5;124m'\u001b[39m\u001b[38;5;124mtransparency_output\u001b[39m\u001b[38;5;124m'\u001b[39m: train_transparency_labels,\n\u001b[0;32m     11\u001b[0m         \u001b[38;5;124m'\u001b[39m\u001b[38;5;124mshape_output\u001b[39m\u001b[38;5;124m'\u001b[39m: train_shape_labels,\n\u001b[0;32m     12\u001b[0m         \u001b[38;5;124m'\u001b[39m\u001b[38;5;124mshape_type_output\u001b[39m\u001b[38;5;124m'\u001b[39m: train_shape_type_labels\n\u001b[0;32m     13\u001b[0m     },\n\u001b[0;32m     14\u001b[0m     epochs\u001b[38;5;241m=\u001b[39m\u001b[38;5;241m10\u001b[39m,  \u001b[38;5;66;03m# 에포크 수는 필요에 따라 조정\u001b[39;00m\n\u001b[0;32m     15\u001b[0m     validation_data\u001b[38;5;241m=\u001b[39m(\n\u001b[0;32m     16\u001b[0m         val_images, \n\u001b[0;32m     17\u001b[0m         {\n\u001b[0;32m     18\u001b[0m             \u001b[38;5;124m'\u001b[39m\u001b[38;5;124mclass_output\u001b[39m\u001b[38;5;124m'\u001b[39m: val_class_labels,\n\u001b[0;32m     19\u001b[0m             \u001b[38;5;124m'\u001b[39m\u001b[38;5;124mdetails_output\u001b[39m\u001b[38;5;124m'\u001b[39m: val_details_labels,\n\u001b[0;32m     20\u001b[0m             \u001b[38;5;124m'\u001b[39m\u001b[38;5;124mdamage_output\u001b[39m\u001b[38;5;124m'\u001b[39m: val_damage_labels,\n\u001b[0;32m     21\u001b[0m             \u001b[38;5;124m'\u001b[39m\u001b[38;5;124mdirtiness_output\u001b[39m\u001b[38;5;124m'\u001b[39m: val_dirtiness_labels,\n\u001b[0;32m     22\u001b[0m             \u001b[38;5;124m'\u001b[39m\u001b[38;5;124mcover_output\u001b[39m\u001b[38;5;124m'\u001b[39m: val_cover_labels,\n\u001b[0;32m     23\u001b[0m             \u001b[38;5;124m'\u001b[39m\u001b[38;5;124mtransparency_output\u001b[39m\u001b[38;5;124m'\u001b[39m: val_transparency_labels,\n\u001b[0;32m     24\u001b[0m             \u001b[38;5;124m'\u001b[39m\u001b[38;5;124mshape_output\u001b[39m\u001b[38;5;124m'\u001b[39m: val_shape_labels,\n\u001b[0;32m     25\u001b[0m             \u001b[38;5;124m'\u001b[39m\u001b[38;5;124mshape_type_output\u001b[39m\u001b[38;5;124m'\u001b[39m: val_shape_type_labels\n\u001b[0;32m     26\u001b[0m         }\n\u001b[0;32m     27\u001b[0m     )\n\u001b[0;32m     28\u001b[0m )\n",
      "File \u001b[1;32mD:\\EZEN\\anaconda3\\Lib\\site-packages\\keras\\src\\utils\\traceback_utils.py:122\u001b[0m, in \u001b[0;36mfilter_traceback.<locals>.error_handler\u001b[1;34m(*args, **kwargs)\u001b[0m\n\u001b[0;32m    119\u001b[0m     filtered_tb \u001b[38;5;241m=\u001b[39m _process_traceback_frames(e\u001b[38;5;241m.\u001b[39m__traceback__)\n\u001b[0;32m    120\u001b[0m     \u001b[38;5;66;03m# To get the full stack trace, call:\u001b[39;00m\n\u001b[0;32m    121\u001b[0m     \u001b[38;5;66;03m# `keras.config.disable_traceback_filtering()`\u001b[39;00m\n\u001b[1;32m--> 122\u001b[0m     \u001b[38;5;28;01mraise\u001b[39;00m e\u001b[38;5;241m.\u001b[39mwith_traceback(filtered_tb) \u001b[38;5;28;01mfrom\u001b[39;00m \u001b[38;5;28;01mNone\u001b[39;00m\n\u001b[0;32m    123\u001b[0m \u001b[38;5;28;01mfinally\u001b[39;00m:\n\u001b[0;32m    124\u001b[0m     \u001b[38;5;28;01mdel\u001b[39;00m filtered_tb\n",
      "File \u001b[1;32mD:\\EZEN\\anaconda3\\Lib\\site-packages\\keras\\src\\backend\\tensorflow\\nn.py:554\u001b[0m, in \u001b[0;36mcategorical_crossentropy\u001b[1;34m(target, output, from_logits, axis)\u001b[0m\n\u001b[0;32m    552\u001b[0m \u001b[38;5;28;01mfor\u001b[39;00m e1, e2 \u001b[38;5;129;01min\u001b[39;00m \u001b[38;5;28mzip\u001b[39m(target\u001b[38;5;241m.\u001b[39mshape, output\u001b[38;5;241m.\u001b[39mshape):\n\u001b[0;32m    553\u001b[0m     \u001b[38;5;28;01mif\u001b[39;00m e1 \u001b[38;5;129;01mis\u001b[39;00m \u001b[38;5;129;01mnot\u001b[39;00m \u001b[38;5;28;01mNone\u001b[39;00m \u001b[38;5;129;01mand\u001b[39;00m e2 \u001b[38;5;129;01mis\u001b[39;00m \u001b[38;5;129;01mnot\u001b[39;00m \u001b[38;5;28;01mNone\u001b[39;00m \u001b[38;5;129;01mand\u001b[39;00m e1 \u001b[38;5;241m!=\u001b[39m e2:\n\u001b[1;32m--> 554\u001b[0m         \u001b[38;5;28;01mraise\u001b[39;00m \u001b[38;5;167;01mValueError\u001b[39;00m(\n\u001b[0;32m    555\u001b[0m             \u001b[38;5;124m\"\u001b[39m\u001b[38;5;124mArguments `target` and `output` must have the same shape. \u001b[39m\u001b[38;5;124m\"\u001b[39m\n\u001b[0;32m    556\u001b[0m             \u001b[38;5;124m\"\u001b[39m\u001b[38;5;124mReceived: \u001b[39m\u001b[38;5;124m\"\u001b[39m\n\u001b[0;32m    557\u001b[0m             \u001b[38;5;124mf\u001b[39m\u001b[38;5;124m\"\u001b[39m\u001b[38;5;124mtarget.shape=\u001b[39m\u001b[38;5;132;01m{\u001b[39;00mtarget\u001b[38;5;241m.\u001b[39mshape\u001b[38;5;132;01m}\u001b[39;00m\u001b[38;5;124m, output.shape=\u001b[39m\u001b[38;5;132;01m{\u001b[39;00moutput\u001b[38;5;241m.\u001b[39mshape\u001b[38;5;132;01m}\u001b[39;00m\u001b[38;5;124m\"\u001b[39m\n\u001b[0;32m    558\u001b[0m         )\n\u001b[0;32m    560\u001b[0m output, from_logits \u001b[38;5;241m=\u001b[39m _get_logits(\n\u001b[0;32m    561\u001b[0m     output, from_logits, \u001b[38;5;124m\"\u001b[39m\u001b[38;5;124mSoftmax\u001b[39m\u001b[38;5;124m\"\u001b[39m, \u001b[38;5;124m\"\u001b[39m\u001b[38;5;124mcategorical_crossentropy\u001b[39m\u001b[38;5;124m\"\u001b[39m\n\u001b[0;32m    562\u001b[0m )\n\u001b[0;32m    563\u001b[0m \u001b[38;5;28;01mif\u001b[39;00m from_logits:\n",
      "\u001b[1;31mValueError\u001b[0m: Arguments `target` and `output` must have the same shape. Received: target.shape=(None, 1), output.shape=(None, 2)"
     ]
    }
   ],
   "source": [
    "# 모델 훈련\n",
    "history = model.fit(\n",
    "    train_images, \n",
    "    {\n",
    "        'class_output': train_class_labels,\n",
    "        'details_output': train_details_labels,\n",
    "        'damage_output': train_damage_labels,\n",
    "        'dirtiness_output': train_dirtiness_labels,\n",
    "        'cover_output': train_cover_labels,\n",
    "        'transparency_output': train_transparency_labels,\n",
    "        'shape_output': train_shape_labels,\n",
    "        'shape_type_output': train_shape_type_labels\n",
    "    },\n",
    "    epochs=10,  # 에포크 수는 필요에 따라 조정\n",
    "    validation_data=(\n",
    "        val_images, \n",
    "        {\n",
    "            'class_output': val_class_labels,\n",
    "            'details_output': val_details_labels,\n",
    "            'damage_output': val_damage_labels,\n",
    "            'dirtiness_output': val_dirtiness_labels,\n",
    "            'cover_output': val_cover_labels,\n",
    "            'transparency_output': val_transparency_labels,\n",
    "            'shape_output': val_shape_labels,\n",
    "            'shape_type_output': val_shape_type_labels\n",
    "        }\n",
    "    )\n",
    ")\n"
   ]
  },
  {
   "cell_type": "code",
   "execution_count": null,
   "id": "dfd87e22-011e-4134-a0cd-d64e2af6c6bb",
   "metadata": {},
   "outputs": [],
   "source": []
  }
 ],
 "metadata": {
  "kernelspec": {
   "display_name": "Python 3 (ipykernel)",
   "language": "python",
   "name": "python3"
  },
  "language_info": {
   "codemirror_mode": {
    "name": "ipython",
    "version": 3
   },
   "file_extension": ".py",
   "mimetype": "text/x-python",
   "name": "python",
   "nbconvert_exporter": "python",
   "pygments_lexer": "ipython3",
   "version": "3.11.7"
  }
 },
 "nbformat": 4,
 "nbformat_minor": 5
}
